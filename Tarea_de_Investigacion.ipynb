{
  "nbformat": 4,
  "nbformat_minor": 0,
  "metadata": {
    "colab": {
      "provenance": []
    },
    "kernelspec": {
      "name": "python3",
      "display_name": "Python 3"
    },
    "language_info": {
      "name": "python"
    }
  },
  "cells": [
    {
      "cell_type": "markdown",
      "source": [
        "##**Tarea De Investigacion**##"
      ],
      "metadata": {
        "id": "s1-nzYw5NASi"
      }
    },
    {
      "cell_type": "markdown",
      "source": [
        "**HISTOGRAMA**\n",
        "\n",
        "Un histograma es un gráfico que muestra la distribución de un conjunto de datos en rangos o segmentos. Se utiliza para mostrar la frecuencia con la que ocurre algo.\n",
        "\n",
        "Algunas de sus características:\n",
        "\n",
        "- Es un tipo de gráfico de barras\n",
        "- Cada barra representa un rango de datos\n",
        "- La altura de la barra indica la frecuencia de los datos en ese rango\n",
        "- Los histogramas se utilizan para mostrar la distribución de una variable cuantitativa y continua\n",
        "\n",
        "Los histogramas se utilizan para mostrar la forma de los datos y analizar la frecuencia con la que una variable toma diferentes valores.\n",
        "Para construir un histograma, se dibuja un eje horizontal con la escala de la variable y se marcan los límites de clase. En el eje vertical se representan las frecuencias.\n",
        "\n",
        "Los histogramas se usan en algunas de estas areas:\n",
        "\n",
        "- En fotografía, los histogramas muestran la distribución de los tonos de una imagen. Esto permite controlar la exposición y corregir los colores.\n",
        "- En la gestión de recursos, los histogramas ayudan a hacer un seguimiento de los requisitos de personal y las capacidades disponibles.\n",
        "- En el análisis de datos, los histogramas permiten visualizar cómo se distribuyen los datos en diferentes valores.\n",
        "- Los histogramas tienen dos ejes: el eje horizontal muestra los valores de los datos y el eje vertical muestra la frecuencia de cada valor.\n"
      ],
      "metadata": {
        "id": "gSOpWIlANiR2"
      }
    },
    {
      "cell_type": "markdown",
      "source": [
        "\n",
        "\n",
        "---\n",
        "\n",
        "\n",
        "**DIAGRAMA DE TALLO Y HOJA**\n",
        "\n",
        "Un diagrama de tallo y hoja es una representacion grafica que organiza daros numericos en un formato tabular.\n",
        "\n",
        "Los pasos para hacerlos:\n",
        "- Ordena los datos en orden ascendente.\n",
        "- Identifica las cifras significativas (tallos) y las menos significativas (hojas).\n",
        "- Escribe los tallos en una columna, separados por lineas verticales.\n",
        "- Coloque las hojas junto a cada tallo.\n",
        "\n",
        "El diagrama de tallo y hoja se utiliza para visualizar la distribución de datos numéricos, y es una herramienta útil en matemáticas e investigación.\n",
        "\n",
        "Se aplica en los siguientes contextos:\n",
        "\n",
        "- Para identificar patrones, valores atípicos y tendencias en un conjunto de datos\n",
        "- Para calcular la media, mediana y moda de un conjunto de datos\n",
        "-Para comparar la distribución de dos o más datos\n",
        "- Para organizar los datos en el momento de su recolección\n",
        "- Para trazar las puntuaciones de los estudiantes en las aulas"
      ],
      "metadata": {
        "id": "oIpGBUrafyFJ"
      }
    },
    {
      "cell_type": "markdown",
      "source": [
        "****\n",
        "**DIAGRAMA DE CAJA**\n",
        "\n",
        "Un diagrama de caja es una representación gráfica de un conjunto de datos numéricos. Se utiliza para mostrar la distribución de los datos, la tendencia central y los valores atípicos.\n",
        "\n",
        "Los diagramas de caja se construyen a partir de cinco valores: El valor mínimo, El primer cuartil (Q_1), La mediana (Q_2), El tercer cuartil (Q_3), El valor máximo.\n",
        "\n",
        "Un diagrama de caja se basa en lo que se denomina el resumen de cinco números, que son el mínimo, el percentil 25, la mediana, el percentil 75 y el calor máximo de un conjunto de datos.\n",
        "\n",
        "Para construir un diagrama de caja se utiliza una caja rectangular y una línea numérica horizontal o vertical.\n",
        "\n",
        "Los diagramas de caja se utilizan para:\n",
        "- Comparar la distribución de una variable en diferentes grupos\n",
        "- Identificar valores atípicos\n",
        "- Mostrar la concentración de los datos\n",
        "- Mostrar la distancia entre los valores extremos y la mayoría de los datos\n",
        "\n",
        "Un ejemplo de uso del diagrama de caja es cuando una ecologista calcula la edad de los árboles de un bosque y usa el diagrama de caja para graficar sus datos."
      ],
      "metadata": {
        "id": "vDLl7KmIhIsA"
      }
    },
    {
      "cell_type": "markdown",
      "source": [
        "****\n",
        "**DIAGRAMA DE PUNTOS**\n",
        "\n",
        "Un diagrama de puntos es un gráfico que muestra datos cuantitativos en forma de puntos a lo largo de un eje. Se usa para representar tendencias, agrupaciones de datos, relaciones entre variables, y más.\n",
        "\n",
        "Para crear un diagrama de puntos, se deben seguir los siguientes pasos:\n",
        "- Organizar los datos en dos columnas\n",
        "- Decidir qué variable irá en cada eje\n",
        "- Dibujar un eje horizontal y etiquetarlo con los valores de la variable\n",
        "- Dibujar una línea para cada valor en el eje horizontal\n",
        "- Colocar un punto sobre la línea correspondiente para cada valor\n",
        "- Espaciar los puntos de manera uniforme\n",
        "- Etiquetar el eje vertical\n",
        "- Agregar un título al diagrama\n",
        "\n",
        "Un gráfico de puntos es similar a un gráfico de líneas, pero sin las líneas. Solamente se muestran los puntos de datos.\n",
        "\n",
        "\n",
        "Los diagramas de puntos son gráficos que se utilizan para representar datos cuantitativos o categóricos de manera organizada. Son útiles para mostrar tendencias o agrupaciones de datos, y para identificar la localización y dispersión de los datos.\n",
        "\n",
        "En qué contextos se utilizan:\n",
        "\n",
        "- En estadística para mostrar la distribución de un conjunto de datos\n",
        "- En el estudio de emisiones de gases de efecto invernadero para visualizar patrones en los datos\n",
        "- En el Comité Federal de Mercado Abierto (FOMC) para indicar las previsiones de sus miembros sobre los tipos de interés\n"
      ],
      "metadata": {
        "id": "XWBPJXEsh2el"
      }
    }
  ]
}